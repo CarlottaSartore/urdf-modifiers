{
 "cells": [
  {
   "cell_type": "code",
   "execution_count": 17,
   "metadata": {},
   "outputs": [],
   "source": [
    "from urdfModifiers.core.linkModifier import LinkModifier\n",
    "from urdfModifiers.core.jointModifier import JointModifier\n",
    "from urdfModifiers import utils\n",
    "from urdfpy import URDF\n",
    "from urdfModifiers.geometry import * \n",
    "from urdfModifiers.geometry.geometry import Side\n",
    "from urdfModifiers.utils import *\n",
    "import idyntree.bindings as iDynTree\n"
   ]
  },
  {
   "cell_type": "code",
   "execution_count": 18,
   "metadata": {},
   "outputs": [],
   "source": [
    "def MoveRobotVisualization(index, delta):\n",
    "    T = iDynTree.Transform()\n",
    "    p = iDynTree.Position()\n",
    "    for k in range(3):\n",
    "        if(k== index):\n",
    "            p.setVal(k,delta)\n",
    "        else:\n",
    "            p.setVal(k,0.0)\n",
    "    \n",
    "    T.setPosition(p)\n",
    "\n",
    "    R = iDynTree.Rotation()\n",
    "    for i in range(3): \n",
    "        for j in range(3):\n",
    "            if(i == j):\n",
    "                R.setVal(i,j,1.0)\n",
    "            else:\n",
    "                R.setVal(i,j,0.0)\n",
    "    T.setRotation(R)\n",
    "    return T"
   ]
  },
  {
   "cell_type": "markdown",
   "metadata": {},
   "source": [
    "## Loading urdf"
   ]
  },
  {
   "cell_type": "code",
   "execution_count": 19,
   "metadata": {},
   "outputs": [],
   "source": [
    "urdf_path =\"./models/stickBot/model.urdf\"\n",
    "output_file = \"./models/stickBotModified.urdf\"\n",
    "dummy_file = 'no_gazebo_plugins.urdf'\n",
    "main_urdf, gazebo_plugin_text = utils.separate_gazebo_plugins(urdf_path)\n",
    "utils.create_dummy_file(dummy_file, main_urdf)\n",
    "robot = URDF.load(dummy_file)\n",
    "utils.erase_dummy_file(dummy_file)"
   ]
  },
  {
   "cell_type": "markdown",
   "metadata": {},
   "source": [
    "## Modify Arms "
   ]
  },
  {
   "cell_type": "code",
   "execution_count": 20,
   "metadata": {},
   "outputs": [
    {
     "name": "stdout",
     "output_type": "stream",
     "text": [
      "Modified Arm\n"
     ]
    }
   ],
   "source": [
    "modificationsArms = {}\n",
    "modificationsArms[\"dimension\"] = [2.0, False]\n",
    "modificationsArms[\"density\"] = [2.0, False]\n",
    "\n",
    "armModifiers = [LinkModifier.from_name('r_upper_arm',robot, 0.022),\n",
    "                JointModifier.from_name('r_elbow',robot, 0.0344),\n",
    "                LinkModifier.from_name('r_forearm',robot, 0.03904),\n",
    "                JointModifier.from_name('r_wrist_pitch',robot, 0.0506),\n",
    "                LinkModifier.from_name('l_upper_arm',robot, 0.022),\n",
    "                JointModifier.from_name('l_elbow',robot, 0.0344),\n",
    "                LinkModifier.from_name('l_forearm',robot, 0.03904),\n",
    "                JointModifier.from_name('l_wrist_pitch',robot, 0.0506)]\n",
    "                \n",
    "for item in armModifiers:\n",
    "    item.modify(modificationsArms)\n",
    "print(\"Modified Arm\")"
   ]
  },
  {
   "cell_type": "markdown",
   "metadata": {},
   "source": [
    "## Modify Legs  "
   ]
  },
  {
   "cell_type": "code",
   "execution_count": 21,
   "metadata": {},
   "outputs": [
    {
     "name": "stdout",
     "output_type": "stream",
     "text": [
      "Modified Legs\n"
     ]
    }
   ],
   "source": [
    "modificationsLegs = {}\n",
    "modificationsLegs[\"dimension\"] = [2.0, False]\n",
    "modificationsLegs[\"density\"] = [2.0, False]\n",
    "\n",
    "legsModifiers =[LinkModifier.from_name('r_hip_3',robot, 0.058),\n",
    "                JointModifier.from_name('r_hip_yaw',robot, 0.1451),\n",
    "                JointModifier.from_name('r_knee',robot, 0.0536),\n",
    "                LinkModifier.from_name('r_lower_leg',robot, -0.03),\n",
    "                JointModifier.from_name('r_ankle_pitch',robot, -0.055989),\n",
    "                LinkModifier.from_name('l_hip_3',robot, 0.058),\n",
    "                JointModifier.from_name('l_hip_yaw',robot, 0.1451),\n",
    "                JointModifier.from_name('l_knee',robot, 0.0536),\n",
    "                LinkModifier.from_name('l_lower_leg',robot, -0.03),\n",
    "                JointModifier.from_name('l_ankle_pitch',robot, -0.055989)]\n",
    "\n",
    "for item in legsModifiers: \n",
    "    item.modify(modificationsLegs)\n",
    "print(\"Modified Legs\")"
   ]
  },
  {
   "cell_type": "markdown",
   "metadata": {},
   "source": [
    "## Modify Torso \n"
   ]
  },
  {
   "cell_type": "code",
   "execution_count": 22,
   "metadata": {},
   "outputs": [
    {
     "name": "stdout",
     "output_type": "stream",
     "text": [
      "Modified Torso\n"
     ]
    }
   ],
   "source": [
    "modificationsTorso = {}\n",
    "modificationsTorso[\"dimension\"] = [2.0, False]\n",
    "modificationsTorso[\"density\"] = [2.0, False]\n",
    "torsoModifiers = [LinkModifier.from_name('root_link',robot, 0, Side.DEPTH, calculate_origin_from_dimensions = False),\n",
    "                  JointModifier.from_name('torso_pitch',robot, -0.078, flip_direction=False),\n",
    "                  JointModifier.from_name('r_hip_pitch',robot, 0.0494, take_half_length=True),\n",
    "                  JointModifier.from_name('l_hip_pitch',robot, 0.0494, take_half_length=True),\n",
    "                  LinkModifier.from_name('torso_1',robot, 0, Side.DEPTH, calculate_origin_from_dimensions = False),\n",
    "                  JointModifier.from_name('torso_yaw',robot, -0.07113, flip_direction=False),\n",
    "                  LinkModifier.from_name('torso_2',robot, 0, Side.DEPTH, calculate_origin_from_dimensions = False),\n",
    "                  JointModifier.from_name('torso_yaw',robot, -0.07113, flip_direction=False),\n",
    "                  LinkModifier.from_name('chest',robot, 0, Side.DEPTH, calculate_origin_from_dimensions = False),\n",
    "                  JointModifier.from_name('r_shoulder_pitch',robot, 0.0554, take_half_length=True, flip_direction=False),\n",
    "                  JointModifier.from_name('l_shoulder_pitch',robot, 0.0554, take_half_length=True, flip_direction=False),\n",
    "                  JointModifier.from_name('neck_fixed_joint',robot, 0.0607, take_half_length=True, flip_direction=False)]\n",
    "for item in torsoModifiers:\n",
    "    item.modify(modificationsTorso)\n",
    "print(\"Modified Torso\")"
   ]
  },
  {
   "cell_type": "markdown",
   "metadata": {},
   "source": [
    "## Writing to urdf"
   ]
  },
  {
   "cell_type": "code",
   "execution_count": 25,
   "metadata": {},
   "outputs": [
    {
     "name": "stdout",
     "output_type": "stream",
     "text": [
      "urdf saved in  ./models/stickBotModified.urdf\n"
     ]
    }
   ],
   "source": [
    "utils.write_urdf_to_file(robot, output_file, gazebo_plugin_text)\n",
    "print(\"urdf saved in \", output_file)"
   ]
  },
  {
   "cell_type": "markdown",
   "metadata": {},
   "source": [
    "## Visualizing Output"
   ]
  },
  {
   "cell_type": "code",
   "execution_count": 26,
   "metadata": {},
   "outputs": [
    {
     "name": "stdout",
     "output_type": "stream",
     "text": [
      "Irrlicht Engine version 1.8.4\n",
      "Linux 5.11.0-40-generic #44~20.04.2-Ubuntu SMP Tue Oct 26 18:07:44 UTC 2021 x86_64\n",
      "Using renderer: OpenGL 4.6\n",
      "Mesa Intel(R) UHD Graphics (TGL GT1): Intel\n",
      "OpenGL driver version is 1.2 or better.\n",
      "GLSL version: 4.6\n"
     ]
    },
    {
     "name": "stderr",
     "output_type": "stream",
     "text": [
      "[ERROR]  :: vector3FromString : Unable to parse component [nan] to a double (while parsing a vector value)\n",
      "[WARNING] SensorElement :: setAttributes : iDynTree does not support sensor of type depth\n",
      "[WARNING] SensorElement :: setAttributes : iDynTree does not support sensor of type camera\n",
      "[ERROR]  :: vector3FromString : Unable to parse component [nan] to a double (while parsing a vector value)\n",
      "[WARNING] SensorElement :: setAttributes : iDynTree does not support sensor of type depth\n",
      "[WARNING] SensorElement :: setAttributes : iDynTree does not support sensor of type camera\n"
     ]
    },
    {
     "name": "stdout",
     "output_type": "stream",
     "text": [
      "Quit message received.\n"
     ]
    }
   ],
   "source": [
    "## Loading Urdf in iDynTree\n",
    "mdlLoaderOriginal = iDynTree.ModelLoader()\n",
    "mdlLoaderModified = iDynTree.ModelLoader()\n",
    "mdlLoaderOriginal.loadReducedModelFromFile(urdf_path,[] , 'root_link')\n",
    "mdlLoaderModified.loadReducedModelFromFile(output_file,[] ,'root_link')\n",
    "\n",
    "## Setting up the visualizer\n",
    "viz = iDynTree.Visualizer() \n",
    "vizOpt = iDynTree.VisualizerOptions()\n",
    "viz.init()\n",
    "viz.setColorPalette(\"meshcat\")\n",
    "env = viz.enviroment()\n",
    "env.setElementVisibility('floor_grid',False)\n",
    "env.setElementVisibility('world_frame',False)\n",
    "cam = viz.camera()\n",
    "cam.setPosition(iDynTree.Position(2.5,0,1.2))\n",
    "viz.camera().animator().enableMouseControl(True)\n",
    "\n",
    "## Adding the model\n",
    "viz.addModel(mdlLoaderOriginal.model(), 'originalModel')\n",
    "viz.addModel(mdlLoaderModified.model(),'modifiedModel')\n",
    "viz.modelViz('originalModel').setModelColor(iDynTree.ColorViz(iDynTree.Vector4_FromPython([1,0.2,0.2,0.2])))\n",
    "\n",
    "## Move the model to improve visibility \n",
    "T=MoveRobotVisualization(1, 1.0)\n",
    "viz.modelViz('originalModel').setPositions(T,iDynTree.VectorDynSize())\n",
    "\n",
    "## Visualizing the models \n",
    "while(viz.run()):\n",
    "    viz.draw()         "
   ]
  }
 ],
 "metadata": {
  "interpreter": {
   "hash": "916dbcbb3f70747c44a77c7bcd40155683ae19c65e1c03b4aa3499c5328201f1"
  },
  "kernelspec": {
   "display_name": "Python 3.8.10 64-bit",
   "language": "python",
   "name": "python3"
  },
  "language_info": {
   "codemirror_mode": {
    "name": "ipython",
    "version": 3
   },
   "file_extension": ".py",
   "mimetype": "text/x-python",
   "name": "python",
   "nbconvert_exporter": "python",
   "pygments_lexer": "ipython3",
   "version": "3.8.10"
  },
  "orig_nbformat": 4
 },
 "nbformat": 4,
 "nbformat_minor": 2
}
